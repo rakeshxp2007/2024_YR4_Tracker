{
 "cells": [
  {
   "cell_type": "markdown",
   "id": "2e37cc5b-2a60-43ec-89cd-b1b6a4239445",
   "metadata": {},
   "source": [
    "# <span style=\"color:Green\"> Asteroid 2024 YR4 Tracking  </span>\n",
    "\n",
    "**SBDB**- Small Body Database\n",
    "**Sentry** -Earth Impact Monitoring System"
   ]
  },
  {
   "cell_type": "code",
   "execution_count": 44,
   "id": "88a5edbf-d719-4a36-9c04-df8d4af07af4",
   "metadata": {},
   "outputs": [],
   "source": [
    "import requests\n",
    "import pandas as pd\n"
   ]
  },
  {
   "cell_type": "code",
   "execution_count": 50,
   "id": "42ee2177-177d-420a-bfa5-193e58deb2fb",
   "metadata": {},
   "outputs": [],
   "source": [
    "#Pulling data from SDBD\n",
    "sbdb_url = \"https://ssd-api.jpl.nasa.gov/sbdb.api?sstr=2024%20YR4\"\n",
    "response = requests.get(sbdb_url)\n",
    "data = response.json()\n",
    "sbdb_df = pd.DataFrame(data[\"orbit\"][\"elements\"])\n",
    "sbdb_df.to_csv(\"2024_YR4_SBDB_Data.csv\", mode=\"a\", header=not pd.io.common.file_exists(\"2024_YR4_SBDB_Data.csv\"))"
   ]
  },
  {
   "cell_type": "code",
   "execution_count": 54,
   "id": "de1de45e-d7b2-48b2-9ab8-2ea2ac0b5477",
   "metadata": {},
   "outputs": [
    {
     "data": {
      "text/html": [
       "<div>\n",
       "<style scoped>\n",
       "    .dataframe tbody tr th:only-of-type {\n",
       "        vertical-align: middle;\n",
       "    }\n",
       "\n",
       "    .dataframe tbody tr th {\n",
       "        vertical-align: top;\n",
       "    }\n",
       "\n",
       "    .dataframe thead th {\n",
       "        text-align: right;\n",
       "    }\n",
       "</style>\n",
       "<table border=\"1\" class=\"dataframe\">\n",
       "  <thead>\n",
       "    <tr style=\"text-align: right;\">\n",
       "      <th></th>\n",
       "      <th>value</th>\n",
       "      <th>name</th>\n",
       "      <th>units</th>\n",
       "      <th>title</th>\n",
       "      <th>label</th>\n",
       "      <th>sigma</th>\n",
       "    </tr>\n",
       "  </thead>\n",
       "  <tbody>\n",
       "    <tr>\n",
       "      <th>0</th>\n",
       "      <td>0.662</td>\n",
       "      <td>e</td>\n",
       "      <td>None</td>\n",
       "      <td>eccentricity</td>\n",
       "      <td>e</td>\n",
       "      <td>5.1e-06</td>\n",
       "    </tr>\n",
       "    <tr>\n",
       "      <th>1</th>\n",
       "      <td>2.52</td>\n",
       "      <td>a</td>\n",
       "      <td>au</td>\n",
       "      <td>semi-major axis</td>\n",
       "      <td>a</td>\n",
       "      <td>3.5e-05</td>\n",
       "    </tr>\n",
       "    <tr>\n",
       "      <th>2</th>\n",
       "      <td>0.851</td>\n",
       "      <td>q</td>\n",
       "      <td>au</td>\n",
       "      <td>perihelion distance</td>\n",
       "      <td>q</td>\n",
       "      <td>7.4e-07</td>\n",
       "    </tr>\n",
       "    <tr>\n",
       "      <th>3</th>\n",
       "      <td>3.41</td>\n",
       "      <td>i</td>\n",
       "      <td>deg</td>\n",
       "      <td>inclination; angle with respect to x-y eclipti...</td>\n",
       "      <td>i</td>\n",
       "      <td>1.9e-05</td>\n",
       "    </tr>\n",
       "    <tr>\n",
       "      <th>4</th>\n",
       "      <td>271</td>\n",
       "      <td>om</td>\n",
       "      <td>deg</td>\n",
       "      <td>longitude of the ascending node</td>\n",
       "      <td>node</td>\n",
       "      <td>9.7e-06</td>\n",
       "    </tr>\n",
       "  </tbody>\n",
       "</table>\n",
       "</div>"
      ],
      "text/plain": [
       "   value name units                                              title label  \\\n",
       "0  0.662    e  None                                       eccentricity     e   \n",
       "1   2.52    a    au                                    semi-major axis     a   \n",
       "2  0.851    q    au                                perihelion distance     q   \n",
       "3   3.41    i   deg  inclination; angle with respect to x-y eclipti...     i   \n",
       "4    271   om   deg                    longitude of the ascending node  node   \n",
       "\n",
       "     sigma  \n",
       "0  5.1e-06  \n",
       "1  3.5e-05  \n",
       "2  7.4e-07  \n",
       "3  1.9e-05  \n",
       "4  9.7e-06  "
      ]
     },
     "execution_count": 54,
     "metadata": {},
     "output_type": "execute_result"
    }
   ],
   "source": [
    "sbdb_df.head()"
   ]
  },
  {
   "cell_type": "code",
   "execution_count": 52,
   "id": "b57d1cf7-b8eb-4d84-848d-4f0faf112619",
   "metadata": {},
   "outputs": [
    {
     "name": "stdout",
     "output_type": "stream",
     "text": [
      "   name        value    sigma\n",
      "0     e        0.662  5.1e-06\n",
      "1     a         2.52  3.5e-05\n",
      "2     q        0.851  7.4e-07\n",
      "3     i         3.41  1.9e-05\n",
      "4    om          271  9.7e-06\n",
      "5     w          134  2.2e-05\n",
      "6    ma         40.4  0.00087\n",
      "7    tp  2460636.918  5.6e-05\n",
      "8   per         1460    0.031\n",
      "9     n        0.247  5.2e-06\n",
      "10   ad         4.18  5.9e-05\n"
     ]
    }
   ],
   "source": [
    "print(sbdb_df[[\"name\",\"value\",\"sigma\"]])"
   ]
  },
  {
   "cell_type": "code",
   "execution_count": 20,
   "id": "a3f97e84-e0c3-45ba-a541-e505b318385d",
   "metadata": {},
   "outputs": [],
   "source": [
    "# Pullig data from Sentry data base\n",
    "sentry_url = \"https://ssd-api.jpl.nasa.gov/sbdb.api?sstr=2024%20YR4\"\n",
    "response = requests.get(sentry_url)\n",
    "data = response.json()\n",
    "sentry_df = pd.DataFrame([data[\"orbit\"][\"elements\"]])\n",
    "sentry_df.to_csv(\"2024_YR4_SBDB_Data.csv\", mode=\"a\", header=not pd.io.common.file_exists(\"2024_YR4_data.csv\"))"
   ]
  },
  {
   "cell_type": "code",
   "execution_count": null,
   "id": "04c49103-3cf7-41b4-88a8-1e96230dfd87",
   "metadata": {},
   "outputs": [],
   "source": []
  },
  {
   "cell_type": "code",
   "execution_count": null,
   "id": "a28efe6d-84ae-41ee-8b15-e26c7588e6b1",
   "metadata": {},
   "outputs": [],
   "source": []
  },
  {
   "cell_type": "code",
   "execution_count": null,
   "id": "0395641e-4c39-4524-a960-2e7f6006b529",
   "metadata": {},
   "outputs": [],
   "source": []
  },
  {
   "cell_type": "code",
   "execution_count": null,
   "id": "e45bdc1c-7300-49e1-9575-938f31211b97",
   "metadata": {},
   "outputs": [],
   "source": []
  },
  {
   "cell_type": "code",
   "execution_count": null,
   "id": "404d9c96-b64c-404e-9b9a-dd535ba9bf89",
   "metadata": {},
   "outputs": [],
   "source": []
  },
  {
   "cell_type": "code",
   "execution_count": null,
   "id": "c05faab5-762c-4959-8242-ad0b18e31290",
   "metadata": {},
   "outputs": [],
   "source": []
  },
  {
   "cell_type": "code",
   "execution_count": null,
   "id": "2035b298-556e-4c1f-9392-d3fd3c77b16a",
   "metadata": {},
   "outputs": [],
   "source": []
  },
  {
   "cell_type": "code",
   "execution_count": null,
   "id": "3715ab2e-51cb-47b1-ad66-6fda23ed53a6",
   "metadata": {},
   "outputs": [],
   "source": []
  }
 ],
 "metadata": {
  "kernelspec": {
   "display_name": "Python 3 (ipykernel)",
   "language": "python",
   "name": "python3"
  },
  "language_info": {
   "codemirror_mode": {
    "name": "ipython",
    "version": 3
   },
   "file_extension": ".py",
   "mimetype": "text/x-python",
   "name": "python",
   "nbconvert_exporter": "python",
   "pygments_lexer": "ipython3",
   "version": "3.12.4"
  }
 },
 "nbformat": 4,
 "nbformat_minor": 5
}
