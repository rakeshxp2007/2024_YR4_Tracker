{
 "cells": [
  {
   "cell_type": "markdown",
   "id": "2e37cc5b-2a60-43ec-89cd-b1b6a4239445",
   "metadata": {},
   "source": [
    "# <span style=\"color:Green\"> Asteroid 2024 YR4 Tracking  </span>\n",
    "\n",
    "**SBDB**- Small Body Database\n",
    "**Sentry** -Earth Impact Monitoring System"
   ]
  },
  {
   "cell_type": "code",
   "execution_count": 71,
   "id": "03901e84-8fb8-485e-8e24-1df3825e9ee6",
   "metadata": {},
   "outputs": [
    {
     "name": "stdout",
     "output_type": "stream",
     "text": [
      "Requirement already satisfied: certifi in c:\\users\\rakesh\\anaconda3\\lib\\site-packages (2024.8.30)\n",
      "Collecting certifi\n",
      "  Downloading certifi-2025.1.31-py3-none-any.whl.metadata (2.5 kB)\n",
      "Requirement already satisfied: requests in c:\\users\\rakesh\\anaconda3\\lib\\site-packages (2.32.2)\n",
      "Collecting requests\n",
      "  Downloading requests-2.32.3-py3-none-any.whl.metadata (4.6 kB)\n",
      "Requirement already satisfied: rebound in c:\\users\\rakesh\\anaconda3\\lib\\site-packages (4.4.6)\n",
      "Requirement already satisfied: charset-normalizer<4,>=2 in c:\\users\\rakesh\\anaconda3\\lib\\site-packages (from requests) (2.0.4)\n",
      "Requirement already satisfied: idna<4,>=2.5 in c:\\users\\rakesh\\anaconda3\\lib\\site-packages (from requests) (3.7)\n",
      "Requirement already satisfied: urllib3<3,>=1.21.1 in c:\\users\\rakesh\\anaconda3\\lib\\site-packages (from requests) (2.2.2)\n",
      "Downloading certifi-2025.1.31-py3-none-any.whl (166 kB)\n",
      "   ---------------------------------------- 0.0/166.4 kB ? eta -:--:--\n",
      "   ------- -------------------------------- 30.7/166.4 kB 1.4 MB/s eta 0:00:01\n",
      "   ---------------------------------------- 166.4/166.4 kB 2.5 MB/s eta 0:00:00\n",
      "Downloading requests-2.32.3-py3-none-any.whl (64 kB)\n",
      "   ---------------------------------------- 0.0/64.9 kB ? eta -:--:--\n",
      "   ---------------------------------------- 64.9/64.9 kB ? eta 0:00:00\n",
      "Installing collected packages: certifi, requests\n",
      "  Attempting uninstall: certifi\n",
      "    Found existing installation: certifi 2024.8.30\n",
      "    Uninstalling certifi-2024.8.30:\n",
      "      Successfully uninstalled certifi-2024.8.30\n",
      "  Attempting uninstall: requests\n",
      "    Found existing installation: requests 2.32.2\n",
      "    Uninstalling requests-2.32.2:\n",
      "      Successfully uninstalled requests-2.32.2\n",
      "Successfully installed certifi-2025.1.31 requests-2.32.3\n"
     ]
    }
   ],
   "source": [
    "#!pip install rebound\n",
    "#!pip install --upgrade certifi requests rebound"
   ]
  },
  {
   "cell_type": "code",
   "execution_count": 73,
   "id": "88a5edbf-d719-4a36-9c04-df8d4af07af4",
   "metadata": {},
   "outputs": [],
   "source": [
    "import requests\n",
    "import pandas as pd\n",
    "import numpy as np\n",
    "import rebound\n"
   ]
  },
  {
   "cell_type": "code",
   "execution_count": null,
   "id": "f72000a9-8525-409d-bd14-89645bb0dd8d",
   "metadata": {},
   "outputs": [],
   "source": [
    "context = ssl._create_unverified_context()\n",
    "urllib.request.urlopen = lambda url, context=context: urllib.request.urlopen(url, context=context)"
   ]
  },
  {
   "cell_type": "code",
   "execution_count": 74,
   "id": "42ee2177-177d-420a-bfa5-193e58deb2fb",
   "metadata": {},
   "outputs": [],
   "source": [
    "#Pulling data from SDBD\n",
    "sbdb_url = \"https://ssd-api.jpl.nasa.gov/sbdb.api?sstr=2024%20YR4\"\n",
    "response = requests.get(sbdb_url)\n",
    "data = response.json()\n",
    "sbdb_df = pd.DataFrame(data[\"orbit\"][\"elements\"])\n",
    "sbdb_df.to_csv(\"2024_YR4_SBDB_Data.csv\", mode=\"a\", header=not pd.io.common.file_exists(\"2024_YR4_SBDB_Data.csv\"))"
   ]
  },
  {
   "cell_type": "code",
   "execution_count": 75,
   "id": "de1de45e-d7b2-48b2-9ab8-2ea2ac0b5477",
   "metadata": {},
   "outputs": [
    {
     "data": {
      "text/html": [
       "<div>\n",
       "<style scoped>\n",
       "    .dataframe tbody tr th:only-of-type {\n",
       "        vertical-align: middle;\n",
       "    }\n",
       "\n",
       "    .dataframe tbody tr th {\n",
       "        vertical-align: top;\n",
       "    }\n",
       "\n",
       "    .dataframe thead th {\n",
       "        text-align: right;\n",
       "    }\n",
       "</style>\n",
       "<table border=\"1\" class=\"dataframe\">\n",
       "  <thead>\n",
       "    <tr style=\"text-align: right;\">\n",
       "      <th></th>\n",
       "      <th>units</th>\n",
       "      <th>sigma</th>\n",
       "      <th>title</th>\n",
       "      <th>label</th>\n",
       "      <th>value</th>\n",
       "      <th>name</th>\n",
       "    </tr>\n",
       "  </thead>\n",
       "  <tbody>\n",
       "    <tr>\n",
       "      <th>0</th>\n",
       "      <td>None</td>\n",
       "      <td>3.6e-06</td>\n",
       "      <td>eccentricity</td>\n",
       "      <td>e</td>\n",
       "      <td>0.662</td>\n",
       "      <td>e</td>\n",
       "    </tr>\n",
       "    <tr>\n",
       "      <th>1</th>\n",
       "      <td>au</td>\n",
       "      <td>2.5e-05</td>\n",
       "      <td>semi-major axis</td>\n",
       "      <td>a</td>\n",
       "      <td>2.52</td>\n",
       "      <td>a</td>\n",
       "    </tr>\n",
       "    <tr>\n",
       "      <th>2</th>\n",
       "      <td>au</td>\n",
       "      <td>5.3e-07</td>\n",
       "      <td>perihelion distance</td>\n",
       "      <td>q</td>\n",
       "      <td>0.851</td>\n",
       "      <td>q</td>\n",
       "    </tr>\n",
       "    <tr>\n",
       "      <th>3</th>\n",
       "      <td>deg</td>\n",
       "      <td>1.3e-05</td>\n",
       "      <td>inclination; angle with respect to x-y eclipti...</td>\n",
       "      <td>i</td>\n",
       "      <td>3.41</td>\n",
       "      <td>i</td>\n",
       "    </tr>\n",
       "    <tr>\n",
       "      <th>4</th>\n",
       "      <td>deg</td>\n",
       "      <td>9.2e-06</td>\n",
       "      <td>longitude of the ascending node</td>\n",
       "      <td>node</td>\n",
       "      <td>271</td>\n",
       "      <td>om</td>\n",
       "    </tr>\n",
       "  </tbody>\n",
       "</table>\n",
       "</div>"
      ],
      "text/plain": [
       "  units    sigma                                              title label  \\\n",
       "0  None  3.6e-06                                       eccentricity     e   \n",
       "1    au  2.5e-05                                    semi-major axis     a   \n",
       "2    au  5.3e-07                                perihelion distance     q   \n",
       "3   deg  1.3e-05  inclination; angle with respect to x-y eclipti...     i   \n",
       "4   deg  9.2e-06                    longitude of the ascending node  node   \n",
       "\n",
       "   value name  \n",
       "0  0.662    e  \n",
       "1   2.52    a  \n",
       "2  0.851    q  \n",
       "3   3.41    i  \n",
       "4    271   om  "
      ]
     },
     "execution_count": 75,
     "metadata": {},
     "output_type": "execute_result"
    }
   ],
   "source": [
    "sbdb_df.head()"
   ]
  },
  {
   "cell_type": "code",
   "execution_count": 76,
   "id": "b57d1cf7-b8eb-4d84-848d-4f0faf112619",
   "metadata": {},
   "outputs": [
    {
     "name": "stdout",
     "output_type": "stream",
     "text": [
      "   name        value    sigma\n",
      "0     e        0.662  3.6e-06\n",
      "1     a         2.52  2.5e-05\n",
      "2     q        0.851  5.3e-07\n",
      "3     i         3.41  1.3e-05\n",
      "4    om          271  9.2e-06\n",
      "5     w          134  1.6e-05\n",
      "6    ma         40.4  0.00062\n",
      "7    tp  2460636.918    4e-05\n",
      "8   per         1460    0.022\n",
      "9     n        0.247  3.7e-06\n",
      "10   ad         4.18  4.2e-05\n"
     ]
    }
   ],
   "source": [
    "print(sbdb_df[[\"name\",\"value\",\"sigma\"]])"
   ]
  },
  {
   "cell_type": "code",
   "execution_count": 77,
   "id": "a3f97e84-e0c3-45ba-a541-e505b318385d",
   "metadata": {},
   "outputs": [],
   "source": [
    "# Pullig data from Sentry data base\n",
    "sentry_url = \"https://ssd-api.jpl.nasa.gov/sentry.api?des=2024%20YR4\"\n",
    "response = requests.get(sentry_url)\n",
    "data_sentry = response.json()\n",
    "sentry_df = pd.DataFrame([data_sentry[\"summary\"]])\n",
    "sentry_df.to_csv(\"2024_YR4_sentry_Data.csv\", mode=\"a\", header=not pd.io.common.file_exists(\"2024_YR4_sentry_Data.csv\"))"
   ]
  },
  {
   "cell_type": "code",
   "execution_count": 78,
   "id": "04c49103-3cf7-41b4-88a8-1e96230dfd87",
   "metadata": {},
   "outputs": [
    {
     "data": {
      "text/html": [
       "<div>\n",
       "<style scoped>\n",
       "    .dataframe tbody tr th:only-of-type {\n",
       "        vertical-align: middle;\n",
       "    }\n",
       "\n",
       "    .dataframe tbody tr th {\n",
       "        vertical-align: top;\n",
       "    }\n",
       "\n",
       "    .dataframe thead th {\n",
       "        text-align: right;\n",
       "    }\n",
       "</style>\n",
       "<table border=\"1\" class=\"dataframe\">\n",
       "  <thead>\n",
       "    <tr style=\"text-align: right;\">\n",
       "      <th></th>\n",
       "      <th>ps_cum</th>\n",
       "      <th>method</th>\n",
       "      <th>ndel</th>\n",
       "      <th>ts_max</th>\n",
       "      <th>pdate</th>\n",
       "      <th>nobs</th>\n",
       "      <th>darc</th>\n",
       "      <th>first_obs</th>\n",
       "      <th>v_imp</th>\n",
       "      <th>ps_max</th>\n",
       "      <th>...</th>\n",
       "      <th>v_inf</th>\n",
       "      <th>cdate</th>\n",
       "      <th>h</th>\n",
       "      <th>ndop</th>\n",
       "      <th>last_obs</th>\n",
       "      <th>n_imp</th>\n",
       "      <th>energy</th>\n",
       "      <th>diameter</th>\n",
       "      <th>nsat</th>\n",
       "      <th>des</th>\n",
       "    </tr>\n",
       "  </thead>\n",
       "  <tbody>\n",
       "    <tr>\n",
       "      <th>0</th>\n",
       "      <td>-1.11</td>\n",
       "      <td>IOBS</td>\n",
       "      <td>0</td>\n",
       "      <td>1</td>\n",
       "      <td>2025-02-23 16:37:36</td>\n",
       "      <td>404</td>\n",
       "      <td>58.929 days</td>\n",
       "      <td>2024-12-25</td>\n",
       "      <td>17.32</td>\n",
       "      <td>-1.11</td>\n",
       "      <td>...</td>\n",
       "      <td>13.26</td>\n",
       "      <td>2025-02-22 08:20:57</td>\n",
       "      <td>23.96</td>\n",
       "      <td>0</td>\n",
       "      <td>2025-02-22</td>\n",
       "      <td>5</td>\n",
       "      <td>7.828e+00</td>\n",
       "      <td>0.055</td>\n",
       "      <td>0</td>\n",
       "      <td>2024 YR4</td>\n",
       "    </tr>\n",
       "  </tbody>\n",
       "</table>\n",
       "<p>1 rows × 23 columns</p>\n",
       "</div>"
      ],
      "text/plain": [
       "  ps_cum method  ndel ts_max                pdate  nobs         darc  \\\n",
       "0  -1.11   IOBS     0      1  2025-02-23 16:37:36   404  58.929 days   \n",
       "\n",
       "    first_obs  v_imp ps_max  ...  v_inf                cdate      h ndop  \\\n",
       "0  2024-12-25  17.32  -1.11  ...  13.26  2025-02-22 08:20:57  23.96    0   \n",
       "\n",
       "     last_obs n_imp     energy diameter  nsat       des  \n",
       "0  2025-02-22     5  7.828e+00    0.055     0  2024 YR4  \n",
       "\n",
       "[1 rows x 23 columns]"
      ]
     },
     "execution_count": 78,
     "metadata": {},
     "output_type": "execute_result"
    }
   ],
   "source": [
    "sentry_df.head()"
   ]
  },
  {
   "cell_type": "markdown",
   "id": "5297984c-fbad-4b30-94a4-98e501d637b5",
   "metadata": {},
   "source": [
    "## Running simulation"
   ]
  },
  {
   "cell_type": "code",
   "execution_count": 90,
   "id": "a28efe6d-84ae-41ee-8b15-e26c7588e6b1",
   "metadata": {},
   "outputs": [
    {
     "name": "stdout",
     "output_type": "stream",
     "text": [
      "Number of particles: 3\n",
      "2024 YR4 position: [-0.2865124528042221, 1.0288183692925688, -0.01600053555908072]\n"
     ]
    }
   ],
   "source": [
    "# Using rebound with SBDB elements to propagate to Sentry’s 2032-12-22.59 date.\n",
    "\n",
    "\n",
    "# Assuming sbdb_df is loaded from your earlier SBDB script\n",
    "e = float(sbdb_df[sbdb_df[\"name\"] == \"e\"][\"value\"].iloc[0])      # 0.662\n",
    "a = float(sbdb_df[sbdb_df[\"name\"] == \"a\"][\"value\"].iloc[0])      # 2.52 AU\n",
    "i = float(sbdb_df[sbdb_df[\"name\"] == \"i\"][\"value\"].iloc[0])      # 3.41 deg\n",
    "om = float(sbdb_df[sbdb_df[\"name\"] == \"om\"][\"value\"].iloc[0])    # 271 deg\n",
    "w = float(sbdb_df[sbdb_df[\"name\"] == \"w\"][\"value\"].iloc[0])      # 134 deg\n",
    "ma = float(sbdb_df[sbdb_df[\"name\"] == \"ma\"][\"value\"].iloc[0])    # 40.4 deg\n",
    "\n",
    "# Convert angles to radians\n",
    "i_rad = np.radians(i)\n",
    "om_rad = np.radians(om)\n",
    "w_rad = np.radians(w)\n",
    "ma_rad = np.radians(ma)\n",
    "\n",
    "# Set up simulation\n",
    "sim = rebound.Simulation()\n",
    "sim.units = ('AU', 'day', 'Msun')\n",
    "sim.add(m=1.0, hash=\"Sun\")  # Sun, mass = 1 solar mass\n",
    "\n",
    "# Add Earth manually (approximate elements for JD 2460800.5)\n",
    "sim.add(m=3.0e-6, a=1.000, e=0.0167, inc=np.radians(0.0), Omega=np.radians(174.9), omega=np.radians(288.1), M=np.radians(65.0), hash=\"Earth\")\n",
    "# Earth: mass=3.0e-6 Msun, a=1 AU, e=0.0167, i=0°, node=174.9°, peri=288.1°, M adjusted for epoch\n",
    "\n",
    "# Add 2024 YR4\n",
    "sim.add(a=a, e=e, inc=i_rad, Omega=om_rad, omega=w_rad, M=ma_rad, hash=\"2024 YR4\")\n",
    "\n",
    "# Debug\n",
    "print(f\"Number of particles: {len(sim.particles)}\")  # Should be 3\n",
    "\n",
    "# Integrate\n",
    "sim.dt = 0.01  # Small timestep for stability\n",
    "sim.integrate(2463602.59 - 2460800.5)  # 2032-12-22.59 - 2025-03-06\n",
    "print(f\"2024 YR4 position: {sim.particles['2024 YR4'].xyz}\")"
   ]
  },
  {
   "cell_type": "markdown",
   "id": "e9112ae9-7b83-4e1a-b07d-544441a7e001",
   "metadata": {},
   "source": [
    "**Meaning of Output**\n",
    "\n",
    "* Number of particles: 3: Confirms Sun (index 0), Earth (index 1), and 2024 YR4 (index 2) are in the simulation—perfect.\n",
    "* 2024 YR4 position: [-0.2865124528042221, 1.0288183692925688, -0.01600053555908072] AU\n",
    "\n",
    "\n",
    "This is the heliocentric position (x, y, z) in AU, in the J2000 ecliptic frame, on JD 2463602.59 (December 22, 2032, 14:10 UTC).\n",
    "\n",
    "Step 1: Interpret 2024 YR4’s Position\n",
    "Coordinates:\n",
    "x = -0.2865 AU\n",
    "y = 1.0288 AU\n",
    "z = -0.0160 AU"
   ]
  },
  {
   "cell_type": "code",
   "execution_count": 100,
   "id": "e45bdc1c-7300-49e1-9575-938f31211b97",
   "metadata": {},
   "outputs": [
    {
     "ename": "SyntaxError",
     "evalue": "cannot assign to expression (1641683763.py, line 2)",
     "output_type": "error",
     "traceback": [
      "\u001b[1;36m  Cell \u001b[1;32mIn[100], line 2\u001b[1;36m\u001b[0m\n\u001b[1;33m    r = (x^2 + y^2 + z^2)^0.5 = ((-0.2865)^2 + (1.0288)^2 + (-0.0160)^2)^0.5 = 1.067\u001b[0m\n\u001b[1;37m        ^\u001b[0m\n\u001b[1;31mSyntaxError\u001b[0m\u001b[1;31m:\u001b[0m cannot assign to expression\n"
     ]
    }
   ],
   "source": [
    "# Distance from Sun\n",
    "r = (x^2 + y^2 + z^2)^0.5 = ((-0.2865)^2 + (1.0288)^2 + (-0.0160)^2)^0.5 = 1.067\n",
    "r"
   ]
  },
  {
   "cell_type": "markdown",
   "id": "66394614-d99c-4d9c-b89f-c4d75c59b6af",
   "metadata": {},
   "source": [
    "## Compare to Earth’s Position\n",
    "To see if this aligns with Sentry’s potential impact on 2032-12-22.59 (0.3594% probability), we need Earth’s position at the same time:"
   ]
  },
  {
   "cell_type": "markdown",
   "id": "831fed65-e8b9-40d5-9130-dc4208478ca7",
   "metadata": {},
   "source": [
    "Earth in Sim: You added Earth with approximate elements (a=1.0 AU, e=0.0167, inc=0°, Omega=174.9°, omega=288.1°, M=65° at JD 2460800.5).\n",
    "Earth’s Position: After integrating ~2802.09 days (~7.67 years):\n",
    "Earth’s period is ~365.25 days, so it completes ~7.67 / 1 ≈ 7.67 orbits, or ~2800° of mean anomaly, wrapping around to ~65° + (0.67 * 360°) ≈ 306° (adjusted for precession and eccentricity).\n",
    "Approximate position (simplified circular orbit at 1 AU):\n",
    "x_E = cos(306°) ≈ 0.809\n",
    "y_E = sin(306°) ≈ -0.588\n",
    "z_E ≈ 0 (near ecliptic)."
   ]
  },
  {
   "cell_type": "code",
   "execution_count": 106,
   "id": "404d9c96-b64c-404e-9b9a-dd535ba9bf89",
   "metadata": {},
   "outputs": [
    {
     "name": "stdout",
     "output_type": "stream",
     "text": [
      "Earth position: [0.6597866950331682, 0.7381686233295313, 0.0]\n"
     ]
    }
   ],
   "source": [
    "# FInding earth's position\n",
    "print(f\"Earth position: {sim.particles['Earth'].xyz}\")"
   ]
  },
  {
   "cell_type": "markdown",
   "id": "c3d376e7-ade9-4978-b17e-3537a9981741",
   "metadata": {},
   "source": [
    "## Distance to Earth\n",
    "* 2024 YR4: [-0.2865, 1.0288, -0.0160]\n",
    "* Earth (estimated): [0.809, -0.588, 0.0] (rough, based on M=306°)."
   ]
  },
  {
   "cell_type": "code",
   "execution_count": 114,
   "id": "2035b298-556e-4c1f-9392-d3fd3c77b16a",
   "metadata": {},
   "outputs": [
    {
     "ename": "SyntaxError",
     "evalue": "cannot assign to expression (1610978534.py, line 1)",
     "output_type": "error",
     "traceback": [
      "\u001b[1;36m  Cell \u001b[1;32mIn[114], line 1\u001b[1;36m\u001b[0m\n\u001b[1;33m    dx = 0.809 - (-0.2865) = 1.0955\u001b[0m\n\u001b[1;37m         ^\u001b[0m\n\u001b[1;31mSyntaxError\u001b[0m\u001b[1;31m:\u001b[0m cannot assign to expression\n"
     ]
    }
   ],
   "source": [
    "dx = 0.809 - (-0.2865) = 1.0955\n",
    "dy = -0.588 - 1.0288 = -1.6168\n",
    "dz = 0.0 - (-0.0160) = 0.0160\n",
    "distance = (dx^2 + dy^2 + dz^2)^0.5 = (1.0955^2 + 1.6168^2 + 0.0160^2)^0.5 = 1.96 AU"
   ]
  },
  {
   "cell_type": "code",
   "execution_count": null,
   "id": "3715ab2e-51cb-47b1-ad66-6fda23ed53a6",
   "metadata": {},
   "outputs": [],
   "source": []
  }
 ],
 "metadata": {
  "kernelspec": {
   "display_name": "Python 3 (ipykernel)",
   "language": "python",
   "name": "python3"
  },
  "language_info": {
   "codemirror_mode": {
    "name": "ipython",
    "version": 3
   },
   "file_extension": ".py",
   "mimetype": "text/x-python",
   "name": "python",
   "nbconvert_exporter": "python",
   "pygments_lexer": "ipython3",
   "version": "3.12.4"
  }
 },
 "nbformat": 4,
 "nbformat_minor": 5
}
